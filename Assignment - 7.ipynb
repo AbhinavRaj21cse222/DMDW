{
 "cells": [
  {
   "cell_type": "code",
   "execution_count": 9,
   "id": "4258f067",
   "metadata": {},
   "outputs": [],
   "source": [
    "import pandas as pd\n",
    "from sklearn.model_selection import train_test_split\n",
    "from sklearn.tree import DecisionTreeClassifier\n",
    "from sklearn.metrics import accuracy_score, classification_report, confusion_matrix"
   ]
  },
  {
   "cell_type": "code",
   "execution_count": 2,
   "id": "3274878c",
   "metadata": {},
   "outputs": [],
   "source": [
    "data = pd.read_csv(\"drug200.csv\")\n"
   ]
  },
  {
   "cell_type": "code",
   "execution_count": 3,
   "id": "efdfaef6",
   "metadata": {},
   "outputs": [
    {
     "name": "stdout",
     "output_type": "stream",
     "text": [
      "Dataset Shape: (200, 6)\n",
      "Dataset Columns: Index(['Age', 'Sex', 'BP', 'Cholesterol', 'Na_to_K', 'Drug'], dtype='object')\n",
      "Dataset Head:\n",
      "    Age Sex      BP Cholesterol  Na_to_K   Drug\n",
      "0   23   F    HIGH        HIGH   25.355  drugY\n",
      "1   47   M     LOW        HIGH   13.093  drugC\n",
      "2   47   M     LOW        HIGH   10.114  drugC\n",
      "3   28   F  NORMAL        HIGH    7.798  drugX\n",
      "4   61   F     LOW        HIGH   18.043  drugY\n"
     ]
    }
   ],
   "source": [
    "print(\"Dataset Shape:\", data.shape)\n",
    "print(\"Dataset Columns:\", data.columns)\n",
    "print(\"Dataset Head:\\n\", data.head())"
   ]
  },
  {
   "cell_type": "code",
   "execution_count": 10,
   "id": "794db4e4",
   "metadata": {},
   "outputs": [],
   "source": [
    "data = pd.get_dummies(data, columns=['Sex', 'BP', 'Cholesterol'])"
   ]
  },
  {
   "cell_type": "code",
   "execution_count": 11,
   "id": "4aeb2a54",
   "metadata": {},
   "outputs": [],
   "source": [
    "X = data.drop(columns=['Drug'])\n",
    "y = data['Drug']"
   ]
  },
  {
   "cell_type": "code",
   "execution_count": 12,
   "id": "03b5b2c9",
   "metadata": {},
   "outputs": [],
   "source": [
    "X_train, X_test, y_train, y_test = train_test_split(X, y, test_size=0.3, random_state=42)"
   ]
  },
  {
   "cell_type": "code",
   "execution_count": 13,
   "id": "6f7b045a",
   "metadata": {},
   "outputs": [],
   "source": [
    "clf = DecisionTreeClassifier(random_state=42)\n"
   ]
  },
  {
   "cell_type": "code",
   "execution_count": 14,
   "id": "e10d0037",
   "metadata": {},
   "outputs": [
    {
     "data": {
      "text/html": [
       "<style>#sk-container-id-1 {color: black;background-color: white;}#sk-container-id-1 pre{padding: 0;}#sk-container-id-1 div.sk-toggleable {background-color: white;}#sk-container-id-1 label.sk-toggleable__label {cursor: pointer;display: block;width: 100%;margin-bottom: 0;padding: 0.3em;box-sizing: border-box;text-align: center;}#sk-container-id-1 label.sk-toggleable__label-arrow:before {content: \"▸\";float: left;margin-right: 0.25em;color: #696969;}#sk-container-id-1 label.sk-toggleable__label-arrow:hover:before {color: black;}#sk-container-id-1 div.sk-estimator:hover label.sk-toggleable__label-arrow:before {color: black;}#sk-container-id-1 div.sk-toggleable__content {max-height: 0;max-width: 0;overflow: hidden;text-align: left;background-color: #f0f8ff;}#sk-container-id-1 div.sk-toggleable__content pre {margin: 0.2em;color: black;border-radius: 0.25em;background-color: #f0f8ff;}#sk-container-id-1 input.sk-toggleable__control:checked~div.sk-toggleable__content {max-height: 200px;max-width: 100%;overflow: auto;}#sk-container-id-1 input.sk-toggleable__control:checked~label.sk-toggleable__label-arrow:before {content: \"▾\";}#sk-container-id-1 div.sk-estimator input.sk-toggleable__control:checked~label.sk-toggleable__label {background-color: #d4ebff;}#sk-container-id-1 div.sk-label input.sk-toggleable__control:checked~label.sk-toggleable__label {background-color: #d4ebff;}#sk-container-id-1 input.sk-hidden--visually {border: 0;clip: rect(1px 1px 1px 1px);clip: rect(1px, 1px, 1px, 1px);height: 1px;margin: -1px;overflow: hidden;padding: 0;position: absolute;width: 1px;}#sk-container-id-1 div.sk-estimator {font-family: monospace;background-color: #f0f8ff;border: 1px dotted black;border-radius: 0.25em;box-sizing: border-box;margin-bottom: 0.5em;}#sk-container-id-1 div.sk-estimator:hover {background-color: #d4ebff;}#sk-container-id-1 div.sk-parallel-item::after {content: \"\";width: 100%;border-bottom: 1px solid gray;flex-grow: 1;}#sk-container-id-1 div.sk-label:hover label.sk-toggleable__label {background-color: #d4ebff;}#sk-container-id-1 div.sk-serial::before {content: \"\";position: absolute;border-left: 1px solid gray;box-sizing: border-box;top: 0;bottom: 0;left: 50%;z-index: 0;}#sk-container-id-1 div.sk-serial {display: flex;flex-direction: column;align-items: center;background-color: white;padding-right: 0.2em;padding-left: 0.2em;position: relative;}#sk-container-id-1 div.sk-item {position: relative;z-index: 1;}#sk-container-id-1 div.sk-parallel {display: flex;align-items: stretch;justify-content: center;background-color: white;position: relative;}#sk-container-id-1 div.sk-item::before, #sk-container-id-1 div.sk-parallel-item::before {content: \"\";position: absolute;border-left: 1px solid gray;box-sizing: border-box;top: 0;bottom: 0;left: 50%;z-index: -1;}#sk-container-id-1 div.sk-parallel-item {display: flex;flex-direction: column;z-index: 1;position: relative;background-color: white;}#sk-container-id-1 div.sk-parallel-item:first-child::after {align-self: flex-end;width: 50%;}#sk-container-id-1 div.sk-parallel-item:last-child::after {align-self: flex-start;width: 50%;}#sk-container-id-1 div.sk-parallel-item:only-child::after {width: 0;}#sk-container-id-1 div.sk-dashed-wrapped {border: 1px dashed gray;margin: 0 0.4em 0.5em 0.4em;box-sizing: border-box;padding-bottom: 0.4em;background-color: white;}#sk-container-id-1 div.sk-label label {font-family: monospace;font-weight: bold;display: inline-block;line-height: 1.2em;}#sk-container-id-1 div.sk-label-container {text-align: center;}#sk-container-id-1 div.sk-container {/* jupyter's `normalize.less` sets `[hidden] { display: none; }` but bootstrap.min.css set `[hidden] { display: none !important; }` so we also need the `!important` here to be able to override the default hidden behavior on the sphinx rendered scikit-learn.org. See: https://github.com/scikit-learn/scikit-learn/issues/21755 */display: inline-block !important;position: relative;}#sk-container-id-1 div.sk-text-repr-fallback {display: none;}</style><div id=\"sk-container-id-1\" class=\"sk-top-container\"><div class=\"sk-text-repr-fallback\"><pre>DecisionTreeClassifier(random_state=42)</pre><b>In a Jupyter environment, please rerun this cell to show the HTML representation or trust the notebook. <br />On GitHub, the HTML representation is unable to render, please try loading this page with nbviewer.org.</b></div><div class=\"sk-container\" hidden><div class=\"sk-item\"><div class=\"sk-estimator sk-toggleable\"><input class=\"sk-toggleable__control sk-hidden--visually\" id=\"sk-estimator-id-1\" type=\"checkbox\" checked><label for=\"sk-estimator-id-1\" class=\"sk-toggleable__label sk-toggleable__label-arrow\">DecisionTreeClassifier</label><div class=\"sk-toggleable__content\"><pre>DecisionTreeClassifier(random_state=42)</pre></div></div></div></div></div>"
      ],
      "text/plain": [
       "DecisionTreeClassifier(random_state=42)"
      ]
     },
     "execution_count": 14,
     "metadata": {},
     "output_type": "execute_result"
    }
   ],
   "source": [
    "clf.fit(X_train, y_train)"
   ]
  },
  {
   "cell_type": "code",
   "execution_count": 15,
   "id": "13866bd2",
   "metadata": {},
   "outputs": [],
   "source": [
    "y_pred = clf.predict(X_test)"
   ]
  },
  {
   "cell_type": "code",
   "execution_count": 16,
   "id": "ee1e220f",
   "metadata": {},
   "outputs": [
    {
     "name": "stdout",
     "output_type": "stream",
     "text": [
      "Accuracy Score: 1.0\n",
      "Confusion Matrix:\n",
      " [[ 7  0  0  0  0]\n",
      " [ 0  3  0  0  0]\n",
      " [ 0  0  6  0  0]\n",
      " [ 0  0  0 18  0]\n",
      " [ 0  0  0  0 26]]\n",
      "Classification Report:\n",
      "               precision    recall  f1-score   support\n",
      "\n",
      "           0       1.00      1.00      1.00         7\n",
      "           1       1.00      1.00      1.00         3\n",
      "           2       1.00      1.00      1.00         6\n",
      "           3       1.00      1.00      1.00        18\n",
      "           4       1.00      1.00      1.00        26\n",
      "\n",
      "    accuracy                           1.00        60\n",
      "   macro avg       1.00      1.00      1.00        60\n",
      "weighted avg       1.00      1.00      1.00        60\n",
      "\n"
     ]
    }
   ],
   "source": [
    "print(\"Accuracy Score:\", accuracy_score(y_test, y_pred))\n",
    "print(\"Confusion Matrix:\\n\", confusion_matrix(y_test, y_pred))\n",
    "print(\"Classification Report:\\n\", classification_report(y_test, y_pred))"
   ]
  },
  {
   "cell_type": "code",
   "execution_count": 17,
   "id": "3ebd42ed",
   "metadata": {},
   "outputs": [],
   "source": [
    "predicted_values = pd.Series(y_pred, name='Predicted_Drug')"
   ]
  },
  {
   "cell_type": "code",
   "execution_count": 18,
   "id": "d5ed14f9",
   "metadata": {},
   "outputs": [],
   "source": [
    "test_data_with_predictions = X_test.copy()\n",
    "test_data_with_predictions['Predicted_Drug'] = predicted_values"
   ]
  },
  {
   "cell_type": "code",
   "execution_count": 19,
   "id": "8bf07286",
   "metadata": {},
   "outputs": [
    {
     "name": "stdout",
     "output_type": "stream",
     "text": [
      "Test Data with Predicted Values:\n",
      "      Age  Na_to_K  Sex_F  Sex_M  BP_HIGH  BP_LOW  BP_NORMAL  Cholesterol_HIGH  \\\n",
      "95    36   11.424      0      1        0       1          0                 0   \n",
      "15    16   15.516      1      0        1       0          0                 0   \n",
      "30    18    8.750      1      0        0       0          1                 0   \n",
      "158   59   10.444      1      0        0       1          0                 1   \n",
      "128   47   33.542      0      1        0       1          0                 0   \n",
      "115   51   18.295      0      1        1       0          0                 1   \n",
      "69    18   24.276      1      0        1       0          0                 0   \n",
      "170   28   12.879      1      0        0       0          1                 1   \n",
      "174   42   12.766      0      1        1       0          0                 0   \n",
      "45    66    8.107      1      0        0       0          1                 0   \n",
      "66    29   12.856      0      1        1       0          0                 1   \n",
      "182   20   11.686      1      0        0       1          0                 0   \n",
      "165   38   18.295      0      1        0       1          0                 1   \n",
      "78    19   13.313      1      0        1       0          0                 1   \n",
      "186   70    9.849      0      1        1       0          0                 1   \n",
      "177   25   19.011      0      1        0       0          1                 1   \n",
      "56    65   11.340      0      1        1       0          0                 0   \n",
      "152   55    7.261      0      1        0       0          1                 0   \n",
      "82    32    9.712      1      0        0       1          0                 1   \n",
      "68    54   24.658      0      1        0       0          1                 1   \n",
      "124   53   12.495      1      0        1       0          0                 0   \n",
      "16    69   11.455      0      1        0       1          0                 0   \n",
      "148   61    7.340      1      0        0       1          0                 0   \n",
      "93    42   29.271      1      0        0       1          0                 0   \n",
      "65    68   27.050      1      0        0       0          1                 0   \n",
      "60    38   29.875      1      0        0       1          0                 0   \n",
      "84    47   10.067      1      0        0       1          0                 1   \n",
      "67    17   10.832      0      1        0       0          1                 0   \n",
      "125   19   25.969      1      0        1       0          0                 0   \n",
      "132   49   13.598      0      1        0       1          0                 0   \n",
      "9     43   19.368      0      1        0       1          0                 0   \n",
      "18    23    7.298      0      1        0       1          0                 1   \n",
      "55    26   14.160      1      0        0       1          0                 1   \n",
      "75    26   20.909      0      1        0       1          0                 0   \n",
      "150   49    8.700      0      1        1       0          0                 0   \n",
      "104   22   28.294      0      1        1       0          0                 0   \n",
      "135   74   11.939      0      1        0       1          0                 0   \n",
      "137   35   12.894      1      0        1       0          0                 1   \n",
      "164   16   19.007      0      1        1       0          0                 0   \n",
      "76    36   11.198      1      0        1       0          0                 1   \n",
      "79    32   10.840      1      0        0       1          0                 0   \n",
      "197   52    9.894      0      1        0       0          1                 1   \n",
      "38    39    9.709      1      0        0       0          1                 0   \n",
      "24    33   33.486      1      0        0       1          0                 1   \n",
      "122   34   22.456      0      1        0       0          1                 1   \n",
      "195   56   11.567      1      0        0       1          0                 1   \n",
      "29    45   17.951      0      1        0       1          0                 1   \n",
      "19    32   25.974      1      0        1       0          0                 0   \n",
      "143   74   15.436      0      1        1       0          0                 0   \n",
      "86    51   13.597      1      0        0       0          1                 1   \n",
      "114   20    9.281      1      0        0       0          1                 0   \n",
      "173   41   18.739      1      0        0       1          0                 0   \n",
      "5     22    8.607      1      0        0       0          1                 1   \n",
      "126   66   16.347      0      1        1       0          0                 1   \n",
      "117   40   10.103      1      0        0       0          1                 1   \n",
      "73    41   22.905      1      0        0       0          1                 0   \n",
      "140   49    6.269      0      1        1       0          0                 0   \n",
      "98    20   35.639      0      1        1       0          0                 0   \n",
      "172   39   17.225      1      0        0       0          1                 0   \n",
      "96    58   38.247      1      0        0       1          0                 1   \n",
      "\n",
      "     Cholesterol_NORMAL  Predicted_Drug  \n",
      "95                    1             NaN  \n",
      "15                    1             4.0  \n",
      "30                    1             4.0  \n",
      "158                   0             NaN  \n",
      "128                   1             NaN  \n",
      "115                   0             NaN  \n",
      "69                    1             NaN  \n",
      "170                   0             NaN  \n",
      "174                   1             NaN  \n",
      "45                    1             2.0  \n",
      "66                    0             NaN  \n",
      "182                   1             NaN  \n",
      "165                   0             NaN  \n",
      "78                    0             NaN  \n",
      "186                   0             NaN  \n",
      "177                   0             NaN  \n",
      "56                    1             0.0  \n",
      "152                   1             NaN  \n",
      "82                    0             NaN  \n",
      "68                    0             NaN  \n",
      "124                   1             NaN  \n",
      "16                    1             1.0  \n",
      "148                   1             NaN  \n",
      "93                    1             NaN  \n",
      "65                    1             NaN  \n",
      "60                    1             NaN  \n",
      "84                    0             NaN  \n",
      "67                    1             NaN  \n",
      "125                   1             NaN  \n",
      "132                   1             NaN  \n",
      "9                     1             3.0  \n",
      "18                    0             2.0  \n",
      "55                    0             4.0  \n",
      "75                    1             NaN  \n",
      "150                   1             NaN  \n",
      "104                   1             NaN  \n",
      "135                   1             NaN  \n",
      "137                   0             NaN  \n",
      "164                   1             NaN  \n",
      "76                    0             NaN  \n",
      "79                    1             NaN  \n",
      "197                   0             NaN  \n",
      "38                    1             4.0  \n",
      "24                    0             4.0  \n",
      "122                   0             NaN  \n",
      "195                   0             NaN  \n",
      "29                    0             3.0  \n",
      "19                    1             4.0  \n",
      "143                   1             NaN  \n",
      "86                    0             NaN  \n",
      "114                   1             NaN  \n",
      "173                   1             NaN  \n",
      "5                     0             4.0  \n",
      "126                   0             NaN  \n",
      "117                   0             NaN  \n",
      "73                    1             NaN  \n",
      "140                   1             NaN  \n",
      "98                    1             NaN  \n",
      "172                   1             NaN  \n",
      "96                    0             NaN  \n"
     ]
    }
   ],
   "source": [
    "print(\"Test Data with Predicted Values:\\n\", test_data_with_predictions)"
   ]
  }
 ],
 "metadata": {
  "kernelspec": {
   "display_name": "Python 3 (ipykernel)",
   "language": "python",
   "name": "python3"
  },
  "language_info": {
   "codemirror_mode": {
    "name": "ipython",
    "version": 3
   },
   "file_extension": ".py",
   "mimetype": "text/x-python",
   "name": "python",
   "nbconvert_exporter": "python",
   "pygments_lexer": "ipython3",
   "version": "3.11.3"
  }
 },
 "nbformat": 4,
 "nbformat_minor": 5
}
