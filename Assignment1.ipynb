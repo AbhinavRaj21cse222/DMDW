{
 "cells": [
  {
   "cell_type": "code",
   "execution_count": 3,
   "id": "5b0039dd",
   "metadata": {},
   "outputs": [],
   "source": [
    "import pandas as pd\n",
    "import numpy as np\n"
   ]
  },
  {
   "cell_type": "code",
   "execution_count": 4,
   "id": "2feef7bf",
   "metadata": {},
   "outputs": [],
   "source": [
    "arr= np.arange(90)"
   ]
  },
  {
   "cell_type": "code",
   "execution_count": 6,
   "id": "5d8878c8",
   "metadata": {},
   "outputs": [
    {
     "name": "stdout",
     "output_type": "stream",
     "text": [
      "[ 0  1  2  3  4  5  6  7  8  9 10 11 12 13 14 15 16 17 18 19 20 21 22 23\n",
      " 24 25 26 27 28 29 30 31 32 33 34 35 36 37 38 39 40 41 42 43 44 45 46 47\n",
      " 48 49 50 51 52 53 54 55 56 57 58 59 60 61 62 63 64 65 66 67 68 69 70 71\n",
      " 72 73 74 75 76 77 78 79 80 81 82 83 84 85 86 87 88 89]\n"
     ]
    }
   ],
   "source": [
    "print(arr)"
   ]
  },
  {
   "cell_type": "code",
   "execution_count": 7,
   "id": "a28b6a66",
   "metadata": {},
   "outputs": [],
   "source": [
    "rl=np.mean(arr)"
   ]
  },
  {
   "cell_type": "code",
   "execution_count": 8,
   "id": "a6899e74",
   "metadata": {},
   "outputs": [
    {
     "name": "stdout",
     "output_type": "stream",
     "text": [
      "44.5\n"
     ]
    }
   ],
   "source": [
    "print(rl)"
   ]
  },
  {
   "cell_type": "code",
   "execution_count": 9,
   "id": "1667c19f",
   "metadata": {},
   "outputs": [],
   "source": [
    "r2=np.median(arr)"
   ]
  },
  {
   "cell_type": "code",
   "execution_count": 10,
   "id": "ecd6d6bf",
   "metadata": {},
   "outputs": [
    {
     "name": "stdout",
     "output_type": "stream",
     "text": [
      "44.5\n"
     ]
    }
   ],
   "source": [
    "print(r2)"
   ]
  },
  {
   "cell_type": "code",
   "execution_count": 11,
   "id": "51f5bf22",
   "metadata": {},
   "outputs": [],
   "source": [
    "r3=np.std(arr)"
   ]
  },
  {
   "cell_type": "code",
   "execution_count": 12,
   "id": "1cf42c60",
   "metadata": {},
   "outputs": [
    {
     "name": "stdout",
     "output_type": "stream",
     "text": [
      "25.979158313283875\n"
     ]
    }
   ],
   "source": [
    "print(r3)"
   ]
  },
  {
   "cell_type": "code",
   "execution_count": 13,
   "id": "bce443df",
   "metadata": {},
   "outputs": [
    {
     "data": {
      "text/plain": [
       "674.9166666666666"
      ]
     },
     "execution_count": 13,
     "metadata": {},
     "output_type": "execute_result"
    }
   ],
   "source": [
    "np.var(arr)"
   ]
  }
 ],
 "metadata": {
  "kernelspec": {
   "display_name": "Python 3 (ipykernel)",
   "language": "python",
   "name": "python3"
  },
  "language_info": {
   "codemirror_mode": {
    "name": "ipython",
    "version": 3
   },
   "file_extension": ".py",
   "mimetype": "text/x-python",
   "name": "python",
   "nbconvert_exporter": "python",
   "pygments_lexer": "ipython3",
   "version": "3.11.3"
  }
 },
 "nbformat": 4,
 "nbformat_minor": 5
}
