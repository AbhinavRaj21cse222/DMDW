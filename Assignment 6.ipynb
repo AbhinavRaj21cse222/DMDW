{
 "cells": [
  {
   "cell_type": "code",
   "execution_count": 3,
   "id": "2d41c09d",
   "metadata": {},
   "outputs": [],
   "source": [
    "import pandas as pd\n",
    "from mlxtend.frequent_patterns import apriori, association_rules"
   ]
  },
  {
   "cell_type": "code",
   "execution_count": 4,
   "id": "7999da23",
   "metadata": {},
   "outputs": [],
   "source": [
    "data = {\n",
    "    'Transaction_ID': ['T100', 'T200', 'T300', 'T400', 'T500'],\n",
    "    'Items_bought': [\n",
    "        {'M', 'O', 'N', 'K', 'E', 'Y'},\n",
    "        {'D', 'O', 'N', 'K', 'E', 'Y'},\n",
    "        {'M', 'A', 'K', 'E'},\n",
    "        {'M', 'U', 'C', 'K', 'Y'},\n",
    "        {'C', 'O', 'O', 'K', 'I', 'E'}\n",
    "    ]\n",
    "}\n",
    "\n",
    "df = pd.DataFrame(data)"
   ]
  },
  {
   "cell_type": "code",
   "execution_count": 5,
   "id": "c62fd85c",
   "metadata": {},
   "outputs": [],
   "source": [
    "df['Items_bought'] = df['Items_bought'].apply(list)"
   ]
  },
  {
   "cell_type": "code",
   "execution_count": 6,
   "id": "d5e01295",
   "metadata": {},
   "outputs": [],
   "source": [
    "oht = pd.get_dummies(df['Items_bought'].explode()).groupby(level=0).max()"
   ]
  },
  {
   "cell_type": "code",
   "execution_count": 7,
   "id": "782468ae",
   "metadata": {},
   "outputs": [],
   "source": [
    "step = 1"
   ]
  },
  {
   "cell_type": "code",
   "execution_count": 8,
   "id": "8cdc91a6",
   "metadata": {},
   "outputs": [
    {
     "name": "stdout",
     "output_type": "stream",
     "text": [
      "Step 1: Count of each item (C1):\n",
      "A    1\n",
      "C    2\n",
      "D    1\n",
      "E    4\n",
      "I    1\n",
      "K    5\n",
      "M    3\n",
      "N    2\n",
      "O    3\n",
      "U    1\n",
      "Y    3\n",
      "dtype: int64\n"
     ]
    }
   ],
   "source": [
    "print(f\"Step {step}: Count of each item (C1):\")\n",
    "c1 = oht.sum()\n",
    "print(c1)"
   ]
  },
  {
   "cell_type": "code",
   "execution_count": 9,
   "id": "4e849ad2",
   "metadata": {},
   "outputs": [],
   "source": [
    "step += 1"
   ]
  },
  {
   "cell_type": "code",
   "execution_count": 10,
   "id": "2e060d37",
   "metadata": {},
   "outputs": [
    {
     "name": "stdout",
     "output_type": "stream",
     "text": [
      "\n",
      "Step 2: Frequent one-itemset (L1) with support >= 0.6:\n",
      "A    1\n",
      "C    2\n",
      "D    1\n",
      "E    4\n",
      "I    1\n",
      "K    5\n",
      "M    3\n",
      "N    2\n",
      "O    3\n",
      "U    1\n",
      "Y    3\n",
      "dtype: int64\n"
     ]
    }
   ],
   "source": [
    "min_support = 0.6\n",
    "print(f\"\\nStep {step}: Frequent one-itemset (L1) with support >= {min_support}:\")\n",
    "l1 = c1[c1 >= min_support]\n",
    "print(l1)"
   ]
  },
  {
   "cell_type": "code",
   "execution_count": 11,
   "id": "432f920a",
   "metadata": {},
   "outputs": [],
   "source": [
    "step += 1"
   ]
  },
  {
   "cell_type": "code",
   "execution_count": 12,
   "id": "0b170709",
   "metadata": {},
   "outputs": [
    {
     "name": "stdout",
     "output_type": "stream",
     "text": [
      "\n",
      "Step 3: Generating two-itemsets (C2):\n",
      "    support   itemsets\n",
      "0       0.8        (E)\n",
      "1       1.0        (K)\n",
      "2       0.6        (M)\n",
      "3       0.6        (O)\n",
      "4       0.6        (Y)\n",
      "5       0.8     (E, K)\n",
      "6       0.6     (O, E)\n",
      "7       0.6     (M, K)\n",
      "8       0.6     (O, K)\n",
      "9       0.6     (Y, K)\n",
      "10      0.6  (O, E, K)\n"
     ]
    }
   ],
   "source": [
    "print(f\"\\nStep {step}: Generating two-itemsets (C2):\")\n",
    "c2 = apriori(oht, min_support=min_support, use_colnames=True)\n",
    "print(c2)"
   ]
  },
  {
   "cell_type": "code",
   "execution_count": 13,
   "id": "5c6b50f8",
   "metadata": {},
   "outputs": [],
   "source": [
    "step += 1"
   ]
  },
  {
   "cell_type": "code",
   "execution_count": 15,
   "id": "d94051ce",
   "metadata": {},
   "outputs": [
    {
     "name": "stdout",
     "output_type": "stream",
     "text": [
      "\n",
      "Step 4: Frequent two-itemsets (L2) with support >= 0.6:\n",
      "    support   itemsets\n",
      "0       0.8        (E)\n",
      "1       1.0        (K)\n",
      "2       0.6        (M)\n",
      "3       0.6        (O)\n",
      "4       0.6        (Y)\n",
      "5       0.8     (E, K)\n",
      "6       0.6     (O, E)\n",
      "7       0.6     (M, K)\n",
      "8       0.6     (O, K)\n",
      "9       0.6     (Y, K)\n",
      "10      0.6  (O, E, K)\n"
     ]
    }
   ],
   "source": [
    "print(f\"\\nStep {step}: Frequent two-itemsets (L2) with support >= {min_support}:\")\n",
    "l2 = c2[c2['support'] >= min_support]\n",
    "print(l2)"
   ]
  },
  {
   "cell_type": "code",
   "execution_count": 16,
   "id": "1e6a7785",
   "metadata": {},
   "outputs": [],
   "source": [
    "step += 1"
   ]
  },
  {
   "cell_type": "code",
   "execution_count": 17,
   "id": "0072b2b6",
   "metadata": {},
   "outputs": [
    {
     "name": "stdout",
     "output_type": "stream",
     "text": [
      "\n",
      "Step 5: Generating candidates for three-itemsets (C3):\n",
      "    support   itemsets\n",
      "0       0.8        (E)\n",
      "1       1.0        (K)\n",
      "2       0.6        (M)\n",
      "3       0.6        (O)\n",
      "4       0.6        (Y)\n",
      "5       0.8     (E, K)\n",
      "6       0.6     (O, E)\n",
      "7       0.6     (M, K)\n",
      "8       0.6     (O, K)\n",
      "9       0.6     (Y, K)\n",
      "10      0.6  (O, E, K)\n"
     ]
    }
   ],
   "source": [
    "print(f\"\\nStep {step}: Generating candidates for three-itemsets (C3):\")\n",
    "c3 = apriori(oht, min_support=min_support, use_colnames=True)\n",
    "print(c3)"
   ]
  },
  {
   "cell_type": "code",
   "execution_count": 18,
   "id": "ff4a637a",
   "metadata": {},
   "outputs": [],
   "source": [
    "step += 1"
   ]
  },
  {
   "cell_type": "code",
   "execution_count": 19,
   "id": "6e64d153",
   "metadata": {},
   "outputs": [
    {
     "name": "stdout",
     "output_type": "stream",
     "text": [
      "\n",
      "Step 6: Stopping as there are no candidates for three-itemsets.\n"
     ]
    }
   ],
   "source": [
    "print(f\"\\nStep {step}: Stopping as there are no candidates for three-itemsets.\")"
   ]
  },
  {
   "cell_type": "code",
   "execution_count": 20,
   "id": "01b8c7aa",
   "metadata": {},
   "outputs": [
    {
     "name": "stdout",
     "output_type": "stream",
     "text": [
      "\n",
      "Final Frequent Itemsets (L2):\n",
      "    support   itemsets\n",
      "0       0.8        (E)\n",
      "1       1.0        (K)\n",
      "2       0.6        (M)\n",
      "3       0.6        (O)\n",
      "4       0.6        (Y)\n",
      "5       0.8     (E, K)\n",
      "6       0.6     (O, E)\n",
      "7       0.6     (M, K)\n",
      "8       0.6     (O, K)\n",
      "9       0.6     (Y, K)\n",
      "10      0.6  (O, E, K)\n"
     ]
    }
   ],
   "source": [
    "print(\"\\nFinal Frequent Itemsets (L2):\")\n",
    "print(l2)"
   ]
  },
  {
   "cell_type": "code",
   "execution_count": 21,
   "id": "e2c36b87",
   "metadata": {},
   "outputs": [],
   "source": [
    "min_confidence = 0.8"
   ]
  },
  {
   "cell_type": "code",
   "execution_count": 22,
   "id": "8bb94be7",
   "metadata": {},
   "outputs": [],
   "source": [
    "association_rules_df = association_rules(l2, metric=\"confidence\", min_threshold=min_confidence)"
   ]
  },
  {
   "cell_type": "code",
   "execution_count": 23,
   "id": "2e4f611f",
   "metadata": {},
   "outputs": [
    {
     "name": "stdout",
     "output_type": "stream",
     "text": [
      "\n",
      "Strong Association Rules with Confidence >= 80%:\n",
      "  antecedents consequents  antecedent support  consequent support  support  \\\n",
      "0         (E)         (K)                 0.8                 1.0      0.8   \n",
      "1         (K)         (E)                 1.0                 0.8      0.8   \n",
      "2         (O)         (E)                 0.6                 0.8      0.6   \n",
      "3         (M)         (K)                 0.6                 1.0      0.6   \n",
      "4         (O)         (K)                 0.6                 1.0      0.6   \n",
      "5         (Y)         (K)                 0.6                 1.0      0.6   \n",
      "6      (O, E)         (K)                 0.6                 1.0      0.6   \n",
      "7      (O, K)         (E)                 0.6                 0.8      0.6   \n",
      "8         (O)      (E, K)                 0.6                 0.8      0.6   \n",
      "\n",
      "   confidence  lift  leverage  conviction  zhangs_metric  \n",
      "0         1.0  1.00      0.00         inf            0.0  \n",
      "1         0.8  1.00      0.00         1.0            0.0  \n",
      "2         1.0  1.25      0.12         inf            0.5  \n",
      "3         1.0  1.00      0.00         inf            0.0  \n",
      "4         1.0  1.00      0.00         inf            0.0  \n",
      "5         1.0  1.00      0.00         inf            0.0  \n",
      "6         1.0  1.00      0.00         inf            0.0  \n",
      "7         1.0  1.25      0.12         inf            0.5  \n",
      "8         1.0  1.25      0.12         inf            0.5  \n"
     ]
    }
   ],
   "source": [
    "print(\"\\nStrong Association Rules with Confidence >= 80%:\")\n",
    "print(association_rules_df)"
   ]
  }
 ],
 "metadata": {
  "kernelspec": {
   "display_name": "Python 3 (ipykernel)",
   "language": "python",
   "name": "python3"
  },
  "language_info": {
   "codemirror_mode": {
    "name": "ipython",
    "version": 3
   },
   "file_extension": ".py",
   "mimetype": "text/x-python",
   "name": "python",
   "nbconvert_exporter": "python",
   "pygments_lexer": "ipython3",
   "version": "3.11.3"
  }
 },
 "nbformat": 4,
 "nbformat_minor": 5
}
